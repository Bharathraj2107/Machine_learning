{
 "cells": [
  {
   "cell_type": "code",
   "execution_count": 1,
   "id": "e59b4048-45bf-4c86-852a-8fef302585cd",
   "metadata": {},
   "outputs": [],
   "source": [
    "#if we train the model and save to a file we don't need to train it again just we can ask the questions\n",
    "#pickel model helps to serialize the object into a file->wb data in the binary format \n",
    "#below we are using the model->we are loading the model from file to a memory and mp is the object then we mp.predict(area) it will give the price  \n",
    "#we can send the file to a friend trainedbrain go and use it for your actual problem"
   ]
  },
  {
   "cell_type": "code",
   "execution_count": null,
   "id": "a62679ea-1b0d-43a5-9d5b-6862fe8d07b6",
   "metadata": {},
   "outputs": [],
   "source": [
    "#other way to save the trained file is sklearn joblib when we have large number of numpy arrays the joblib will perform better\n",
    "#The joblib can directly take the model and the filename "
   ]
  }
 ],
 "metadata": {
  "kernelspec": {
   "display_name": "Python 3 (ipykernel)",
   "language": "python",
   "name": "python3"
  },
  "language_info": {
   "codemirror_mode": {
    "name": "ipython",
    "version": 3
   },
   "file_extension": ".py",
   "mimetype": "text/x-python",
   "name": "python",
   "nbconvert_exporter": "python",
   "pygments_lexer": "ipython3",
   "version": "3.12.4"
  }
 },
 "nbformat": 4,
 "nbformat_minor": 5
}
