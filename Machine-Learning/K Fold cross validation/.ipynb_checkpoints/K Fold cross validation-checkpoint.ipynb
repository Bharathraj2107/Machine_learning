{
 "cells": [
  {
   "cell_type": "code",
   "execution_count": 2,
   "id": "95c4bb58-76ce-4105-bd95-9608687a6dfb",
   "metadata": {},
   "outputs": [],
   "source": [
    "#1) way say we have model and we train the model with all the data set and test it the model will predict the values accurately bcoz it has seen the data previously\n",
    "#2) way say we have 100 data sets and we are training thee model with 80% of the data and remaining 20% is used for testing it is good but not perfect\n",
    "#3)K fold cross validation say we take 100 samples in that we divide it into 5 say each contains 25% of data first time we train 2,3,4 and test 1.next time we test with 2and train with 1,3,4,5 same for all the box each one time testing and at last we take the average of all the score in this way we are training the model with all the type of data\n",
    "#we can't train the model once and say this or that model is best becauseeacjh time we run the model the dataset chamges means the the score value of the model % increase so it is not good way"
   ]
  },
  {
   "cell_type": "code",
   "execution_count": 3,
   "id": "6b4b8658-e4f1-4d5f-98c9-56d096fb0470",
   "metadata": {},
   "outputs": [],
   "source": [
    "from sklearn.linear_model import LogisticRegression\n",
    "from sklearn.svm import SVC\n",
    "from sklearn.ensemble import RandomForestClassifier\n",
    "import numpy as np\n",
    "from sklearn.datasets import load_digits\n",
    "\n",
    "digits=load_digits()"
   ]
  },
  {
   "cell_type": "code",
   "execution_count": 4,
   "id": "f8a7cb21-9079-44f0-a07f-31347a7b9602",
   "metadata": {},
   "outputs": [],
   "source": [
    "from sklearn.model_selection import train_test_split\n",
    "x_train,x_test,y_train,y_test=train_test_split(digits.data,digits.target,test_size=0.3)"
   ]
  },
  {
   "cell_type": "code",
   "execution_count": 5,
   "id": "14e12161-455c-4e99-9670-cb8e9a81c1d3",
   "metadata": {},
   "outputs": [
    {
     "data": {
      "text/plain": [
       "KFold(n_splits=3, random_state=None, shuffle=False)"
      ]
     },
     "execution_count": 5,
     "metadata": {},
     "output_type": "execute_result"
    }
   ],
   "source": [
    "from sklearn.model_selection import KFold\n",
    "kf=KFold(n_splits=3)\n",
    "kf"
   ]
  },
  {
   "cell_type": "code",
   "execution_count": 7,
   "id": "ecd1612b-ef3d-4b78-9799-e5c32bd5d4a8",
   "metadata": {},
   "outputs": [
    {
     "name": "stdout",
     "output_type": "stream",
     "text": [
      "[3 4 5 6 7 8] [0 1 2]\n",
      "[0 1 2 6 7 8] [3 4 5]\n",
      "[0 1 2 3 4 5] [6 7 8]\n"
     ]
    }
   ],
   "source": [
    "for train_index,test_index in kf.split([1,2,3,4,5,6,7,8,9]):\n",
    "    print(train_index,test_index)"
   ]
  },
  {
   "cell_type": "code",
   "execution_count": null,
   "id": "706300d0-cb1f-408f-b079-bf7eda6856d8",
   "metadata": {},
   "outputs": [],
   "source": [
    "#here the first matrix is used for trainning and the second matrix is used for testing here the 012 is in testing then it is added to training similarly "
   ]
  }
 ],
 "metadata": {
  "kernelspec": {
   "display_name": "Python 3 (ipykernel)",
   "language": "python",
   "name": "python3"
  },
  "language_info": {
   "codemirror_mode": {
    "name": "ipython",
    "version": 3
   },
   "file_extension": ".py",
   "mimetype": "text/x-python",
   "name": "python",
   "nbconvert_exporter": "python",
   "pygments_lexer": "ipython3",
   "version": "3.12.4"
  }
 },
 "nbformat": 4,
 "nbformat_minor": 5
}
