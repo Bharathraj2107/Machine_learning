{
 "cells": [
  {
   "cell_type": "code",
   "execution_count": null,
   "id": "101e0fad-c40d-4ddd-a029-6df251c4d229",
   "metadata": {},
   "outputs": [],
   "source": [
    "#k means clustering algorithm means when we have 2 points we draw  center line between the datapoints an and movethe points to the closest  point and divide them into 2 groups"
   ]
  }
 ],
 "metadata": {
  "kernelspec": {
   "display_name": "Python 3 (ipykernel)",
   "language": "python",
   "name": "python3"
  },
  "language_info": {
   "codemirror_mode": {
    "name": "ipython",
    "version": 3
   },
   "file_extension": ".py",
   "mimetype": "text/x-python",
   "name": "python",
   "nbconvert_exporter": "python",
   "pygments_lexer": "ipython3",
   "version": "3.12.4"
  }
 },
 "nbformat": 4,
 "nbformat_minor": 5
}
