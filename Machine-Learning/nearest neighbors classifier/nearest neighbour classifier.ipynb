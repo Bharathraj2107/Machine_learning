{
 "cells": [
  {
   "cell_type": "code",
   "execution_count": null,
   "id": "7ec6aa4c-f46f-4854-825b-9582f36b19af",
   "metadata": {},
   "outputs": [],
   "source": [
    "#in the knn if k=3 we need to find the nearest 3points from the group for the point which we need to find where it belongs based on the k value we need to find which group has majority it must belongs to that group\n",
    "#say k=10 ,a=8,b=7,c=3 and the given point is very close to the c but k is 10 so by logic the point is a which is false we need to properly select the value of k"
   ]
  }
 ],
 "metadata": {
  "kernelspec": {
   "display_name": "Python 3 (ipykernel)",
   "language": "python",
   "name": "python3"
  },
  "language_info": {
   "codemirror_mode": {
    "name": "ipython",
    "version": 3
   },
   "file_extension": ".py",
   "mimetype": "text/x-python",
   "name": "python",
   "nbconvert_exporter": "python",
   "pygments_lexer": "ipython3",
   "version": "3.12.4"
  }
 },
 "nbformat": 4,
 "nbformat_minor": 5
}
