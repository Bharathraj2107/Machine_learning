{
 "cells": [
  {
   "cell_type": "code",
   "execution_count": null,
   "id": "056cd264-0134-4abb-a4a0-5c8738e999ed",
   "metadata": {},
   "outputs": [],
   "source": [
    "#first we will try linear regression and we will see overfitting the model and then we wil use l1 and l2 regularization and see how we address that overfitting issue and how it improves score on our test set.\n",
    "#underfitting is the linear graph that pass through some points \n",
    "#overfitting is the line joining the points \n",
    "#balance fit is u shape curve which is a combination of 1 and 2 \n",
    "#training dataset train too much and try to fit too much then you have the testing dataset when you try to predict your new data points keep balance between the overfit and underfit\n",
    "#how to reduce overfitting\n",
    "#we use drop_first=True to drop the dummy variable trap\n",
    "#for trainning the thescore is high and for testing the score is low for the data which we have not seen for that it will be less"
   ]
  }
 ],
 "metadata": {
  "kernelspec": {
   "display_name": "Python 3 (ipykernel)",
   "language": "python",
   "name": "python3"
  },
  "language_info": {
   "codemirror_mode": {
    "name": "ipython",
    "version": 3
   },
   "file_extension": ".py",
   "mimetype": "text/x-python",
   "name": "python",
   "nbconvert_exporter": "python",
   "pygments_lexer": "ipython3",
   "version": "3.12.4"
  }
 },
 "nbformat": 4,
 "nbformat_minor": 5
}
