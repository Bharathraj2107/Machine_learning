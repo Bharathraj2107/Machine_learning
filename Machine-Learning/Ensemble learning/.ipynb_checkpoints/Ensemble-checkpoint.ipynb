{
 "cells": [
  {
   "cell_type": "code",
   "execution_count": null,
   "id": "bc06b5a9-c0a7-4f46-823a-ad66ef3761bc",
   "metadata": {},
   "outputs": [],
   "source": [
    "# if we have model and we train it completely with all the dataset it becomes overfit and may have high variance \n",
    "#it might be biased bcoz each time the random sample are generated so each time we get new response so we take the majority\n",
    "#we train modles using the same dataset and do multiple prediction and combine to get the final output we use Bagging and boosting in ensemble learning\n",
    "#Bagging-model can be SVM,knn,Logistic,regression\n",
    "#Bagged Trees-Each model is  a tree"
   ]
  }
 ],
 "metadata": {
  "kernelspec": {
   "display_name": "Python 3 (ipykernel)",
   "language": "python",
   "name": "python3"
  },
  "language_info": {
   "codemirror_mode": {
    "name": "ipython",
    "version": 3
   },
   "file_extension": ".py",
   "mimetype": "text/x-python",
   "name": "python",
   "nbconvert_exporter": "python",
   "pygments_lexer": "ipython3",
   "version": "3.12.4"
  }
 },
 "nbformat": 4,
 "nbformat_minor": 5
}
